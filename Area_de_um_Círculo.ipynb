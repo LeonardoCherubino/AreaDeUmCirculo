{
  "nbformat": 4,
  "nbformat_minor": 0,
  "metadata": {
    "colab": {
      "name": "Area de um Círculo.ipynb",
      "provenance": [],
      "collapsed_sections": [],
      "authorship_tag": "ABX9TyOSXwqQ37csUwaC6SGoPcw/",
      "include_colab_link": true
    },
    "kernelspec": {
      "name": "python3",
      "display_name": "Python 3"
    },
    "language_info": {
      "name": "python"
    }
  },
  "cells": [
    {
      "cell_type": "markdown",
      "metadata": {
        "id": "view-in-github",
        "colab_type": "text"
      },
      "source": [
        "<a href=\"https://colab.research.google.com/github/LeonardoCherubino/AreaDeUmCirculo/blob/main/Area_de_um_C%C3%ADrculo.ipynb\" target=\"_parent\"><img src=\"https://colab.research.google.com/assets/colab-badge.svg\" alt=\"Open In Colab\"/></a>"
      ]
    },
    {
      "cell_type": "code",
      "execution_count": null,
      "metadata": {
        "id": "Mjf6EzAMRfN6"
      },
      "outputs": [],
      "source": [
        ""
      ]
    },
    {
      "cell_type": "markdown",
      "source": [
        "Faça um Programa que peça o raio de um círculo, calcule e mostre sua área."
      ],
      "metadata": {
        "id": "vp-oOiiRRf3b"
      }
    },
    {
      "cell_type": "markdown",
      "source": [
        "pi = 3.14\n",
        "AreaDoCirculo = pi(raio ** 2)\n",
        "print(AreaDoCirculo)\n"
      ],
      "metadata": {
        "id": "x9v86R6fRkUb"
      }
    },
    {
      "cell_type": "code",
      "source": [
        "pi = 3.14\n",
        "raio = float(input('Entre com o raio do círculo em centímetros: '))\n",
        "AreaDoCirculo = pi * (raio ** 2)\n",
        "print('A área do círculo é {} centímetros quadrados'.format(AreaDoCirculo))\n"
      ],
      "metadata": {
        "colab": {
          "base_uri": "https://localhost:8080/"
        },
        "id": "T-NznaNzSGD7",
        "outputId": "2e7c8886-d130-47cc-e778-e87ef8c9ce39"
      },
      "execution_count": 3,
      "outputs": [
        {
          "output_type": "stream",
          "name": "stdout",
          "text": [
            "Entre com o raio do círculo em centímetros: 10\n",
            "A área do círculo é 314.0 centímetros quadrados\n"
          ]
        }
      ]
    }
  ]
}